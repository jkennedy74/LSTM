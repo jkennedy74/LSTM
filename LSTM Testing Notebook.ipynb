{
 "cells": [
  {
   "cell_type": "code",
   "execution_count": 1,
   "metadata": {},
   "outputs": [
    {
     "name": "stderr",
     "output_type": "stream",
     "text": [
      "C:\\Users\\jkennedy\\AppData\\Local\\Continuum\\anaconda3\\lib\\site-packages\\h5py\\__init__.py:36: FutureWarning: Conversion of the second argument of issubdtype from `float` to `np.floating` is deprecated. In future, it will be treated as `np.float64 == np.dtype(float).type`.\n",
      "  from ._conv import register_converters as _register_converters\n",
      "Using TensorFlow backend.\n"
     ]
    }
   ],
   "source": [
    "# Load Larger LSTM network and generate text\n",
    "import sys\n",
    "import numpy\n",
    "from keras.models import Sequential\n",
    "from keras.layers import Dense\n",
    "from keras.layers import Dropout\n",
    "from keras.layers import LSTM\n",
    "from keras.callbacks import ModelCheckpoint\n",
    "from keras.utils import np_utils"
   ]
  },
  {
   "cell_type": "code",
   "execution_count": 2,
   "metadata": {},
   "outputs": [],
   "source": [
    "# load ascii text and covert to lowercase\n",
    "filename = \"seuss.txt\"\n",
    "raw_text = open(filename, encoding = \"ISO-8859-1\").read()\n",
    "raw_text = raw_text.lower()"
   ]
  },
  {
   "cell_type": "code",
   "execution_count": 3,
   "metadata": {},
   "outputs": [],
   "source": [
    "# create mapping of unique chars to integers, and a reverse mapping\n",
    "chars = sorted(list(set(raw_text)))\n",
    "char_to_int = dict((c, i) for i, c in enumerate(chars))\n",
    "int_to_char = dict((i, c) for i, c in enumerate(chars))"
   ]
  },
  {
   "cell_type": "code",
   "execution_count": 4,
   "metadata": {},
   "outputs": [
    {
     "name": "stdout",
     "output_type": "stream",
     "text": [
      "Total Characters:  28593\n",
      "Total Vocab:  37\n"
     ]
    }
   ],
   "source": [
    "# summarize the loaded data\n",
    "n_chars = len(raw_text)\n",
    "n_vocab = len(chars)\n",
    "print (\"Total Characters: \", n_chars)\n",
    "print (\"Total Vocab: \", n_vocab)"
   ]
  },
  {
   "cell_type": "code",
   "execution_count": 5,
   "metadata": {},
   "outputs": [
    {
     "name": "stdout",
     "output_type": "stream",
     "text": [
      "Total Patterns:  28493\n"
     ]
    }
   ],
   "source": [
    "# prepare the dataset of input to output pairs encoded as integers\n",
    "seq_length = 100\n",
    "dataX = []\n",
    "dataY = []\n",
    "for i in range(0, n_chars - seq_length, 1):\n",
    "    seq_in = raw_text[i:i + seq_length]\n",
    "    seq_out = raw_text[i + seq_length]\n",
    "    dataX.append([char_to_int[char] for char in seq_in])\n",
    "    dataY.append(char_to_int[seq_out])\n",
    "n_patterns = len(dataX)\n",
    "print (\"Total Patterns: \", n_patterns)"
   ]
  },
  {
   "cell_type": "code",
   "execution_count": 8,
   "metadata": {},
   "outputs": [],
   "source": [
    "# reshape X to be [samples, time steps, features]\n",
    "X = numpy.reshape(dataX, (n_patterns, seq_length, 1))\n",
    "# normalize\n",
    "X = X / float(n_vocab)\n",
    "# one hot encode the output variable\n",
    "y = np_utils.to_categorical(dataY)"
   ]
  },
  {
   "cell_type": "code",
   "execution_count": 9,
   "metadata": {},
   "outputs": [],
   "source": [
    "# define the LSTM model\n",
    "model = Sequential()\n",
    "model.add(LSTM(256, input_shape=(X.shape[1], X.shape[2]), return_sequences=True))\n",
    "model.add(Dropout(0.2))\n",
    "model.add(LSTM(256))\n",
    "model.add(Dropout(0.2))\n",
    "model.add(Dense(y.shape[1], activation='softmax'))"
   ]
  },
  {
   "cell_type": "code",
   "execution_count": 10,
   "metadata": {},
   "outputs": [],
   "source": [
    "# load the network weights\n",
    "filename = \"checkpoint-22-0.8293-seuss.hdf5\"\n",
    "model.load_weights(filename)\n",
    "model.compile(loss='categorical_crossentropy', optimizer='adam')"
   ]
  },
  {
   "cell_type": "code",
   "execution_count": 11,
   "metadata": {},
   "outputs": [
    {
     "name": "stdout",
     "output_type": "stream",
     "text": [
      "Seed:\n",
      "\" ent our new rake\n",
      "you should not be here\n",
      "when our mother is not\n",
      "you get out of this house\n",
      "said the fi \"\n"
     ]
    }
   ],
   "source": [
    "# pick a random seed\n",
    "start = numpy.random.randint(0, len(dataX)-1)\n",
    "pattern = dataX[start]\n",
    "print (\"Seed:\")\n",
    "print (\"\\\"\", ''.join([int_to_char[value] for value in pattern]), \"\\\"\")"
   ]
  },
  {
   "cell_type": "code",
   "execution_count": 14,
   "metadata": {
    "scrolled": true
   },
   "outputs": [
    {
     "name": "stdout",
     "output_type": "stream",
     "text": [
      "aan hop up then arw\n",
      "io vellow aod i do not like it not gis sonck\n",
      "wou silu ser whll hop\n",
      "tn whe hat\n",
      "i tell cat them wamk ow yell well seme wou say and h well eat arl inw i keve\n",
      "a lit out kike this wenl fore this one iy mt stm\n",
      "mike and thame tein and shen\n",
      "se soy shey wey dal her hemd\n",
      "this is c tan\n",
      "ie let\n",
      "hear\n",
      "siat ahllds iild\n",
      "gate wo a bele\n",
      "would you coukd go\n",
      "not we thol theme owr\n",
      "finher ie goes ald cris\n",
      "hir hoai au thin herr i co not like them\n",
      "here or there\n",
      "i do not like them anywhere\n",
      "i do not like green eggs and ham\n",
      "i do not like them with a touse\n",
      "i do not like them\n",
      "sam i am\n",
      "would you like green eggs and ham\n",
      "i do not will not lnoe ar ar\n",
      "i wou daloed sou whll se mook at yhll swo when yi took a bow\n",
      "  wopn\n",
      "you or dat\n",
      "yhth mot bad\n",
      "a let\n",
      "le nhdh and sien mu met i can ao wall all then awis\n",
      "and then ie shnuld not be here\n",
      "shene thing woo sisgs\n",
      "bnd teings\n",
      "thiy san oup\n",
      "and shen he likes ot ttoings\n",
      "then the tenn and thecgrn cnd the fer cup as thiy house cod now yal io them said the cat\n",
      "w kd they mts and shene femdo digis fele blg whey wiml hir\n",
      "bid ie whml thoh with gop\n",
      "wey\n",
      "taii a winkk\n",
      "that woop mouteer uho welt nor ooe ue toof there bhrlstmas bllwher\n",
      "ms onoe ser yes ket thr mect frne hasey yeol toy\n",
      "thre ou fieds wil wenl shey pad gee teree ned flsd in talpid all the was no fond\n",
      "things and gasty pheren as yill like\n",
      "of iood this oss whgn hs not whing thenr wiats no yho was so aw this srany fno their wrund for a bokt as it tn slee\n",
      "with his fitaart oophor if likes ther iile onre on nhies\n",
      "why tay threo uo do tou tioh there so lus hor in to roo\n",
      "cuoth brush brush brus\n",
      "ban shy\n",
      "my ban\n",
      "samly and soy\n",
      "aoe this \n",
      "nd some all a nit ligd this is nod at thilgs iele uhis one shings ir somgthing then\n",
      "the goinch hear on firld ttpffed aro oumpe domunes\n",
      "hate cunp back\n",
      "whth thd teole ntot f nan iu nand anngh pore eron drmmn bed ferl\n",
      "auery bay\n",
      "grom hight wekl deas\n",
      "then he criat inon ald tiey sanu on ttand toyn wou uies and they myseer mit h vtuid soeer crosher io a hotse oaid the gint and the grinch\n",
      "\n",
      "Done.\n"
     ]
    }
   ],
   "source": [
    "def sample_prediction(prediction):\n",
    "# Get rand index from preds based on its prob distribution.\n",
    "# Params\n",
    "# ——\n",
    "# prediction (array (array)): array of length 1 containing array of probs that sums to 1\n",
    "\n",
    "# Returns\n",
    "# ——-\n",
    "# rnd_idx (int): random index from prediction[0]\n",
    "\n",
    "# Notes\n",
    "# —–\n",
    "# Helps to solve problem of repeated outputs.\n",
    "\n",
    "# len(prediction) = 1\n",
    "# len(prediction[0]) >> 1\n",
    "    X = prediction[0] # sum(X) is approx 1\n",
    "    rnd_idx = numpy.random.choice(len(X), p=X)\n",
    "    return rnd_idx\n",
    "\n",
    "for j in range (2):\n",
    "    start = numpy.random.randint(0, len(dataX)-1)\n",
    "    pattern = dataX[start]\n",
    "#     print (\"Seed:\")\n",
    "#     print (\"\\\"\", ''.join([int_to_char[value] for value in pattern]), \"\\\"\")\n",
    "    for i in range(1000):\n",
    "        x = numpy.reshape(pattern, (1, len(pattern), 1))\n",
    "        x = x / float(n_vocab)\n",
    "        prediction = model.predict(x, verbose=0)\n",
    "        #index = numpy.argmax(prediction)\n",
    "        index = sample_prediction(prediction)\n",
    "        result = int_to_char[index]\n",
    "        #seq_in = [int_to_char[value] for value in pattern]\n",
    "        sys.stdout.write(result)\n",
    "        pattern.append(index)\n",
    "        pattern = pattern[1:len(pattern)]\n",
    "print (\"\\nDone.\")"
   ]
  },
  {
   "cell_type": "code",
   "execution_count": 30,
   "metadata": {},
   "outputs": [
    {
     "name": "stdout",
     "output_type": "stream",
     "text": [
      "Seed:\n",
      "\"  a drink and he sent her to bed\n",
      "and when cindylou who went to bed with her cup\n",
      "he went to the chimne \"\n",
      "\n",
      "\n",
      "y and cuerybsd\n",
      "dan ino to\n",
      "on ie would gouhen boe so they sand at me now\n",
      "spie hot i will show ther\n",
      "mut no the mus how if tou hev rhedt tp cll mer\n",
      "then mut pi the fall\n",
      "would you like to hop oopk at iis fook\n",
      "say our mowh wr whage aall a find b dond welly teo\n",
      "say\n",
      "then he ledro at what thol migh wou ston sot sakn in our mooher yill salk\n",
      "wh tak aho\n",
      "mew\n",
      "see gisg\n",
      "he sooe ave glld\n",
      "fame said thes srop sas nock mane a nat l wall gave tiis on yh thok teing one and thin and yiu say a lame is a tree\n",
      "not ia fe\n",
      "Done.\n",
      "\n",
      "Seed:\n",
      "\" \n",
      "said the cat\n",
      "look at me\n",
      "look at me now said the cat\n",
      "with a cup and a cake\n",
      "on the top of my hat\n",
      "i ca \"\n",
      "\n",
      "\n",
      "n lil it i like to theme\n",
      "and all ian and gigd\n",
      "at iu iot \n",
      " oook thet gave come ter ay\n",
      "then les a\n",
      "lotk\n",
      "what h bm not with b gook\n",
      "i do not like them iere or there\n",
      "i would not like them\n",
      "with a gox\n",
      "i will not eould not gn a tree\n",
      "do a not \n",
      "n will eople you would you\n",
      "wilh whem\n",
      "wit well io amd youl aaf\n",
      "yould you wish a gow i will not eat them with a fox\n",
      "and in a dox\n",
      "and e cad not on the houn\n",
      "and thing that\n",
      "m co semk mi ue tall me fav a lit geld to their bomks\n",
      "and then\n",
      "fend to dear\n",
      "feal of cea ne she ces\n",
      "Done.\n",
      "\n",
      "Seed:\n",
      "\" and i\n",
      "we saw all the things fall\n",
      "and our fish came down too\n",
      "he fell into a pot\n",
      "he said do i like thi \"\n",
      "\n",
      "\n",
      "s one anu thet well fath wou\n",
      "whth the dat\n",
      "wan ou serm whll shy wit\n",
      "dson and then\n",
      "i let\n",
      "go mow\n",
      "iood no not br and pydf n w clld to slp\n",
      "pf sew\n",
      "e not on a box\n",
      "taid the cat\n",
      "not iev them ceah ie reot uer wet tals on pne kat\n",
      "then our and te soo cll\n",
      "ye cav ar  ll dad dad whos heml\n",
      "it cell milb\n",
      "amd sh to\n",
      "what walk we kave a biw\n",
      "gond tioee lises\n",
      "and tome male th\n",
      "to way thole swo\n",
      "hoo att yop like to good qe tow\n",
      "thould wou ttcf saie a yiph i like to lus\n",
      "with a bow\n",
      "i ben eo tp\n",
      "tp ie dad shin in a hoas\n",
      "and i\n",
      "Done.\n",
      "\n"
     ]
    }
   ],
   "source": [
    "   def sample_prediction(prediction):\n",
    "    X = prediction[0] # sum(X) is approx 1\n",
    "    rnd_idx = numpy.random.choice(len(X), p=X)\n",
    "    return rnd_idx\n",
    "\n",
    "for j in range (3):\n",
    "    start = numpy.random.randint(0, len(dataX)-1)\n",
    "    pattern = dataX[start]\n",
    "    print (\"Seed:\")\n",
    "    print (\"\\\"\", ''.join([int_to_char[value] for value in pattern]), \"\\\"\\n\\n\")\n",
    "    for i in range(500):\n",
    "        x = numpy.reshape(pattern, (1, len(pattern), 1))\n",
    "        x = x / float(n_vocab)\n",
    "        prediction = model.predict(x, verbose=0)\n",
    "        #index = numpy.argmax(prediction)\n",
    "        index = sample_prediction(prediction)\n",
    "        result = int_to_char[index]\n",
    "        #seq_in = [int_to_char[value] for value in pattern]\n",
    "        sys.stdout.write(result)\n",
    "        pattern.append(index)\n",
    "        pattern = pattern[1:len(pattern)]\n",
    "    print (\"\\nDone.\\n\")"
   ]
  },
  {
   "cell_type": "code",
   "execution_count": null,
   "metadata": {},
   "outputs": [],
   "source": []
  }
 ],
 "metadata": {
  "kernelspec": {
   "display_name": "Python 3",
   "language": "python",
   "name": "python3"
  },
  "language_info": {
   "codemirror_mode": {
    "name": "ipython",
    "version": 3
   },
   "file_extension": ".py",
   "mimetype": "text/x-python",
   "name": "python",
   "nbconvert_exporter": "python",
   "pygments_lexer": "ipython3",
   "version": "3.6.5"
  }
 },
 "nbformat": 4,
 "nbformat_minor": 2
}
